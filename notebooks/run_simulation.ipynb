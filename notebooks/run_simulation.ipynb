{
 "cells": [
  {
   "cell_type": "markdown",
   "id": "e81763d5-1ced-42ec-93b5-d059df385703",
   "metadata": {
    "tags": []
   },
   "source": [
    "# The Echo Chamber Simulator - Simulation"
   ]
  },
  {
   "cell_type": "code",
   "execution_count": 1,
   "id": "eb97e4ff-f589-4d5d-8616-58b7b37885b3",
   "metadata": {},
   "outputs": [],
   "source": [
    "import sys\n",
    "sys.path.append('../src')\n",
    "\n",
    "import os\n",
    "import csv\n",
    "import time\n",
    "import torch\n",
    "import random\n",
    "\n",
    "import pandas as pd\n",
    "import networkx as nx\n",
    "\n",
    "from utils import SimLogger, bidict\n",
    "from data import DataPipeline\n",
    "from evaluate import Evaluator\n",
    "from simulation import SimulationPipeline\n",
    "from model import KGEModel, TrainPipeline\n",
    "from main import parse_args\n",
    "from graph import homophily"
   ]
  },
  {
   "cell_type": "code",
   "execution_count": 2,
   "id": "bb92b852-43e2-49e8-a39d-20ca507f998f",
   "metadata": {},
   "outputs": [
    {
     "data": {
      "text/plain": [
       "Namespace(adversarial_temperature=1.0, batch_size=512, candidate_mode='random', condition='epistemic', confirmation_bias=0.5, cpu_num=16, cuda=True, data_dir='dataset/processed/ukraine', dataset='ukraine', disconnect_ratio=0.3, do_disconnect=True, do_test=False, evaluate_train=False, free_simulation=True, gamma=20.0, hidden_dim=20, ideological_bias=0.5, ideological_communities=[0, 1, 2, 3, 4, 5, 6, 7, 8, 9, 10, 11, 12, 13, 14], latitude_of_acceptance=0.5, learning_rate=0.01, log_reference_user_graph=False, log_steps=5000, max_steps=10000, model='DistMult', negative_adversarial_sampling=False, negative_sample_size=10, nentity=0, nrelation=0, num_tweet_recs=20, num_user_recs=5, parent_dir='/home/tim/git-projects/2021-Twitter-KGE', rank_items=False, rank_users=False, recalc_communities=True, recommendation_mode='random', regularization=2e-06, save_checkpoint_steps=1000, save_path=None, sharpness=5, simulation_epochs=30, test_batch_size=1, test_negative_sample_size=500, uni_weight=False, user_disconnect_ratio=1.0, user_sample_size=None, user_sampling_strategy='all', valid_steps=500, warm_up_steps=None)"
      ]
     },
     "execution_count": 2,
     "metadata": {},
     "output_type": "execute_result"
    }
   ],
   "source": [
    "args = parse_args(\"\")\n",
    "\n",
    "''' Set up paths & directories '''\n",
    "args.dataset = 'ukraine'\n",
    "args.data_dir = os.path.join(args.data_dir, 'processed', args.dataset)\n",
    "args.parent_dir = os.path.abspath(os.path.join(os.getcwd(), os.pardir))\n",
    "\n",
    "''' Set Simulation Params '''\n",
    "args.user_sample_size = None\n",
    "args.user_sampling_strategy = 'all'\n",
    "args.simulation_epochs = 30\n",
    "\n",
    "''' Set User Behavior '''\n",
    "args.condition = 'epistemic'\n",
    "num_ideological_communities = 15\n",
    "args.ideological_communities = [i for i in range(num_ideological_communities)]\n",
    "args.confirmation_bias = 0.5\n",
    "args.ideological_bias = 0.5\n",
    "args.do_disconnect = True\n",
    "args.user_disconnect_ratio = 1.0\n",
    "args.disconnect_ratio = 0.3\n",
    "\n",
    "''' Set Recommender System Behavior '''\n",
    "args.recommendation_mode = 'random'\n",
    "args.rank_users = False\n",
    "\n",
    "''' Set Technical Parameters '''\n",
    "args.max_steps = 10000\n",
    "args.do_test = False\n",
    "args.recalc_communities = True\n",
    "args.free_simulation = True\n",
    "args.cpu_num = 16\n",
    "args.cuda = True\n",
    "args.log_reference_user_graph = False\n",
    "args"
   ]
  },
  {
   "cell_type": "markdown",
   "id": "cee57883-3caf-470f-aa5e-4ed15767e6f7",
   "metadata": {},
   "source": [
    "### Logging Setup"
   ]
  },
  {
   "cell_type": "code",
   "execution_count": 3,
   "id": "ade99438-f610-489c-85d1-d115cf86020f",
   "metadata": {},
   "outputs": [
    {
     "name": "stdout",
     "output_type": "stream",
     "text": [
      "/home/tim/git-projects/2021-Twitter-KGE/log/ukraine/epistemic/random/DistMult/1646319309.534264/simulation.log\n"
     ]
    }
   ],
   "source": [
    "if not args.save_path:\n",
    "    args.save_path = os.path.join(\n",
    "        args.parent_dir, 'log', args.dataset, args.condition, args.recommendation_mode, args.model, str(time.time()))\n",
    "sim_logger = SimLogger(args.save_path)\n",
    "sim_logger.log_info(args)"
   ]
  },
  {
   "cell_type": "markdown",
   "id": "780e0abd-a19b-49ea-aa0e-09531f0b23b6",
   "metadata": {},
   "source": [
    "### Log Statistics for Reference User Graph"
   ]
  },
  {
   "cell_type": "code",
   "execution_count": 4,
   "id": "fe5c0ecd-16f6-45ab-ae4a-571e68421110",
   "metadata": {},
   "outputs": [],
   "source": [
    "reference_user_graph = nx.read_gexf(os.path.join(args.parent_dir, args.data_dir, \"reduced_user_graph.gexf\"), node_type=int)\n",
    "reference_community_mapper = bidict(nx.get_node_attributes(reference_user_graph, 'block'))\n",
    "\n",
    "initial_communities = sorted(list(reference_community_mapper.items()))\n",
    "initial_communities = [x[1] for x in initial_communities]\n",
    "\n",
    "if args.log_reference_user_graph:\n",
    "    sim_logger.calculate_metrics(\n",
    "        reference_user_graph,\n",
    "        reference_community_mapper)\n",
    "    sim_logger.log_simulation(epoch=-1) \n",
    "    "
   ]
  },
  {
   "cell_type": "code",
   "execution_count": 5,
   "id": "a2dfafc8-eed0-41b1-9741-3aa84af0d251",
   "metadata": {},
   "outputs": [
    {
     "ename": "KeyboardInterrupt",
     "evalue": "",
     "output_type": "error",
     "traceback": [
      "\u001b[0;31m---------------------------------------------------------------------------\u001b[0m",
      "\u001b[0;31mKeyboardInterrupt\u001b[0m                         Traceback (most recent call last)",
      "\u001b[0;32m/tmp/ipykernel_6212/3582816729.py\u001b[0m in \u001b[0;36m<module>\u001b[0;34m\u001b[0m\n\u001b[0;32m----> 1\u001b[0;31m \u001b[0mtarget_user_graph\u001b[0m \u001b[0;34m=\u001b[0m \u001b[0mnx\u001b[0m\u001b[0;34m.\u001b[0m\u001b[0mread_gexf\u001b[0m\u001b[0;34m(\u001b[0m\u001b[0mos\u001b[0m\u001b[0;34m.\u001b[0m\u001b[0mpath\u001b[0m\u001b[0;34m.\u001b[0m\u001b[0mjoin\u001b[0m\u001b[0;34m(\u001b[0m\u001b[0margs\u001b[0m\u001b[0;34m.\u001b[0m\u001b[0mparent_dir\u001b[0m\u001b[0;34m,\u001b[0m \u001b[0margs\u001b[0m\u001b[0;34m.\u001b[0m\u001b[0mdata_dir\u001b[0m\u001b[0;34m,\u001b[0m \u001b[0;34m'target_user_graph.gexf'\u001b[0m\u001b[0;34m)\u001b[0m\u001b[0;34m,\u001b[0m \u001b[0mnode_type\u001b[0m\u001b[0;34m=\u001b[0m\u001b[0mint\u001b[0m\u001b[0;34m)\u001b[0m\u001b[0;34m\u001b[0m\u001b[0;34m\u001b[0m\u001b[0m\n\u001b[0m",
      "\u001b[0;32m<decorator-gen-812>\u001b[0m in \u001b[0;36mread_gexf\u001b[0;34m(path, node_type, relabel, version)\u001b[0m\n",
      "\u001b[0;32m~/miniconda3/envs/ogbl-twitter/lib/python3.7/site-packages/networkx/utils/decorators.py\u001b[0m in \u001b[0;36m_open_file\u001b[0;34m(func_to_be_decorated, *args, **kwargs)\u001b[0m\n\u001b[1;32m    237\u001b[0m         \u001b[0;31m# Finally, we call the original function, making sure to close the fobj\u001b[0m\u001b[0;34m\u001b[0m\u001b[0;34m\u001b[0m\u001b[0;34m\u001b[0m\u001b[0m\n\u001b[1;32m    238\u001b[0m         \u001b[0;32mtry\u001b[0m\u001b[0;34m:\u001b[0m\u001b[0;34m\u001b[0m\u001b[0;34m\u001b[0m\u001b[0m\n\u001b[0;32m--> 239\u001b[0;31m             \u001b[0mresult\u001b[0m \u001b[0;34m=\u001b[0m \u001b[0mfunc_to_be_decorated\u001b[0m\u001b[0;34m(\u001b[0m\u001b[0;34m*\u001b[0m\u001b[0mnew_args\u001b[0m\u001b[0;34m,\u001b[0m \u001b[0;34m**\u001b[0m\u001b[0mkwargs\u001b[0m\u001b[0;34m)\u001b[0m\u001b[0;34m\u001b[0m\u001b[0;34m\u001b[0m\u001b[0m\n\u001b[0m\u001b[1;32m    240\u001b[0m         \u001b[0;32mfinally\u001b[0m\u001b[0;34m:\u001b[0m\u001b[0;34m\u001b[0m\u001b[0;34m\u001b[0m\u001b[0m\n\u001b[1;32m    241\u001b[0m             \u001b[0;32mif\u001b[0m \u001b[0mclose_fobj\u001b[0m\u001b[0;34m:\u001b[0m\u001b[0;34m\u001b[0m\u001b[0;34m\u001b[0m\u001b[0m\n",
      "\u001b[0;32m~/miniconda3/envs/ogbl-twitter/lib/python3.7/site-packages/networkx/readwrite/gexf.py\u001b[0m in \u001b[0;36mread_gexf\u001b[0;34m(path, node_type, relabel, version)\u001b[0m\n\u001b[1;32m    167\u001b[0m         \u001b[0mG\u001b[0m \u001b[0;34m=\u001b[0m \u001b[0mrelabel_gexf_graph\u001b[0m\u001b[0;34m(\u001b[0m\u001b[0mreader\u001b[0m\u001b[0;34m(\u001b[0m\u001b[0mpath\u001b[0m\u001b[0;34m)\u001b[0m\u001b[0;34m)\u001b[0m\u001b[0;34m\u001b[0m\u001b[0;34m\u001b[0m\u001b[0m\n\u001b[1;32m    168\u001b[0m     \u001b[0;32melse\u001b[0m\u001b[0;34m:\u001b[0m\u001b[0;34m\u001b[0m\u001b[0;34m\u001b[0m\u001b[0m\n\u001b[0;32m--> 169\u001b[0;31m         \u001b[0mG\u001b[0m \u001b[0;34m=\u001b[0m \u001b[0mreader\u001b[0m\u001b[0;34m(\u001b[0m\u001b[0mpath\u001b[0m\u001b[0;34m)\u001b[0m\u001b[0;34m\u001b[0m\u001b[0;34m\u001b[0m\u001b[0m\n\u001b[0m\u001b[1;32m    170\u001b[0m     \u001b[0;32mreturn\u001b[0m \u001b[0mG\u001b[0m\u001b[0;34m\u001b[0m\u001b[0;34m\u001b[0m\u001b[0m\n\u001b[1;32m    171\u001b[0m \u001b[0;34m\u001b[0m\u001b[0m\n",
      "\u001b[0;32m~/miniconda3/envs/ogbl-twitter/lib/python3.7/site-packages/networkx/readwrite/gexf.py\u001b[0m in \u001b[0;36m__call__\u001b[0;34m(self, stream)\u001b[0m\n\u001b[1;32m    684\u001b[0m         \u001b[0mg\u001b[0m \u001b[0;34m=\u001b[0m \u001b[0mself\u001b[0m\u001b[0;34m.\u001b[0m\u001b[0mxml\u001b[0m\u001b[0;34m.\u001b[0m\u001b[0mfind\u001b[0m\u001b[0;34m(\u001b[0m\u001b[0;34mf\"{{{self.NS_GEXF}}}graph\"\u001b[0m\u001b[0;34m)\u001b[0m\u001b[0;34m\u001b[0m\u001b[0;34m\u001b[0m\u001b[0m\n\u001b[1;32m    685\u001b[0m         \u001b[0;32mif\u001b[0m \u001b[0mg\u001b[0m \u001b[0;32mis\u001b[0m \u001b[0;32mnot\u001b[0m \u001b[0;32mNone\u001b[0m\u001b[0;34m:\u001b[0m\u001b[0;34m\u001b[0m\u001b[0;34m\u001b[0m\u001b[0m\n\u001b[0;32m--> 686\u001b[0;31m             \u001b[0;32mreturn\u001b[0m \u001b[0mself\u001b[0m\u001b[0;34m.\u001b[0m\u001b[0mmake_graph\u001b[0m\u001b[0;34m(\u001b[0m\u001b[0mg\u001b[0m\u001b[0;34m)\u001b[0m\u001b[0;34m\u001b[0m\u001b[0;34m\u001b[0m\u001b[0m\n\u001b[0m\u001b[1;32m    687\u001b[0m         \u001b[0;31m# try all the versions\u001b[0m\u001b[0;34m\u001b[0m\u001b[0;34m\u001b[0m\u001b[0;34m\u001b[0m\u001b[0m\n\u001b[1;32m    688\u001b[0m         \u001b[0;32mfor\u001b[0m \u001b[0mversion\u001b[0m \u001b[0;32min\u001b[0m \u001b[0mself\u001b[0m\u001b[0;34m.\u001b[0m\u001b[0mversions\u001b[0m\u001b[0;34m:\u001b[0m\u001b[0;34m\u001b[0m\u001b[0;34m\u001b[0m\u001b[0m\n",
      "\u001b[0;32m~/miniconda3/envs/ogbl-twitter/lib/python3.7/site-packages/networkx/readwrite/gexf.py\u001b[0m in \u001b[0;36mmake_graph\u001b[0;34m(self, graph_xml)\u001b[0m\n\u001b[1;32m    756\u001b[0m         \u001b[0;32mif\u001b[0m \u001b[0mnodes_element\u001b[0m \u001b[0;32mis\u001b[0m \u001b[0;32mnot\u001b[0m \u001b[0;32mNone\u001b[0m\u001b[0;34m:\u001b[0m\u001b[0;34m\u001b[0m\u001b[0;34m\u001b[0m\u001b[0m\n\u001b[1;32m    757\u001b[0m             \u001b[0;32mfor\u001b[0m \u001b[0mnode_xml\u001b[0m \u001b[0;32min\u001b[0m \u001b[0mnodes_element\u001b[0m\u001b[0;34m.\u001b[0m\u001b[0mfindall\u001b[0m\u001b[0;34m(\u001b[0m\u001b[0;34mf\"{{{self.NS_GEXF}}}node\"\u001b[0m\u001b[0;34m)\u001b[0m\u001b[0;34m:\u001b[0m\u001b[0;34m\u001b[0m\u001b[0;34m\u001b[0m\u001b[0m\n\u001b[0;32m--> 758\u001b[0;31m                 \u001b[0mself\u001b[0m\u001b[0;34m.\u001b[0m\u001b[0madd_node\u001b[0m\u001b[0;34m(\u001b[0m\u001b[0mG\u001b[0m\u001b[0;34m,\u001b[0m \u001b[0mnode_xml\u001b[0m\u001b[0;34m,\u001b[0m \u001b[0mnode_attr\u001b[0m\u001b[0;34m)\u001b[0m\u001b[0;34m\u001b[0m\u001b[0;34m\u001b[0m\u001b[0m\n\u001b[0m\u001b[1;32m    759\u001b[0m \u001b[0;34m\u001b[0m\u001b[0m\n\u001b[1;32m    760\u001b[0m         \u001b[0;31m# add edges\u001b[0m\u001b[0;34m\u001b[0m\u001b[0;34m\u001b[0m\u001b[0;34m\u001b[0m\u001b[0m\n",
      "\u001b[0;32m~/miniconda3/envs/ogbl-twitter/lib/python3.7/site-packages/networkx/readwrite/gexf.py\u001b[0m in \u001b[0;36madd_node\u001b[0;34m(self, G, node_xml, node_attr, node_pid)\u001b[0m\n\u001b[1;32m    783\u001b[0m             \u001b[0mdata\u001b[0m \u001b[0;34m=\u001b[0m \u001b[0mself\u001b[0m\u001b[0;34m.\u001b[0m\u001b[0madd_spells\u001b[0m\u001b[0;34m(\u001b[0m\u001b[0mdata\u001b[0m\u001b[0;34m,\u001b[0m \u001b[0mnode_xml\u001b[0m\u001b[0;34m)\u001b[0m  \u001b[0;31m# add spells\u001b[0m\u001b[0;34m\u001b[0m\u001b[0;34m\u001b[0m\u001b[0m\n\u001b[1;32m    784\u001b[0m         \u001b[0mdata\u001b[0m \u001b[0;34m=\u001b[0m \u001b[0mself\u001b[0m\u001b[0;34m.\u001b[0m\u001b[0madd_viz\u001b[0m\u001b[0;34m(\u001b[0m\u001b[0mdata\u001b[0m\u001b[0;34m,\u001b[0m \u001b[0mnode_xml\u001b[0m\u001b[0;34m)\u001b[0m  \u001b[0;31m# add viz\u001b[0m\u001b[0;34m\u001b[0m\u001b[0;34m\u001b[0m\u001b[0m\n\u001b[0;32m--> 785\u001b[0;31m         \u001b[0mdata\u001b[0m \u001b[0;34m=\u001b[0m \u001b[0mself\u001b[0m\u001b[0;34m.\u001b[0m\u001b[0madd_start_end\u001b[0m\u001b[0;34m(\u001b[0m\u001b[0mdata\u001b[0m\u001b[0;34m,\u001b[0m \u001b[0mnode_xml\u001b[0m\u001b[0;34m)\u001b[0m  \u001b[0;31m# add start/end\u001b[0m\u001b[0;34m\u001b[0m\u001b[0;34m\u001b[0m\u001b[0m\n\u001b[0m\u001b[1;32m    786\u001b[0m \u001b[0;34m\u001b[0m\u001b[0m\n\u001b[1;32m    787\u001b[0m         \u001b[0;31m# find the node id and cast it to the appropriate type\u001b[0m\u001b[0;34m\u001b[0m\u001b[0;34m\u001b[0m\u001b[0;34m\u001b[0m\u001b[0m\n",
      "\u001b[0;32m~/miniconda3/envs/ogbl-twitter/lib/python3.7/site-packages/networkx/readwrite/gexf.py\u001b[0m in \u001b[0;36madd_start_end\u001b[0;34m(self, data, xml)\u001b[0m\n\u001b[1;32m    810\u001b[0m         \u001b[0;31m# start and end times\u001b[0m\u001b[0;34m\u001b[0m\u001b[0;34m\u001b[0m\u001b[0;34m\u001b[0m\u001b[0m\n\u001b[1;32m    811\u001b[0m         \u001b[0mttype\u001b[0m \u001b[0;34m=\u001b[0m \u001b[0mself\u001b[0m\u001b[0;34m.\u001b[0m\u001b[0mtimeformat\u001b[0m\u001b[0;34m\u001b[0m\u001b[0;34m\u001b[0m\u001b[0m\n\u001b[0;32m--> 812\u001b[0;31m         \u001b[0mnode_start\u001b[0m \u001b[0;34m=\u001b[0m \u001b[0mxml\u001b[0m\u001b[0;34m.\u001b[0m\u001b[0mget\u001b[0m\u001b[0;34m(\u001b[0m\u001b[0;34m\"start\"\u001b[0m\u001b[0;34m)\u001b[0m\u001b[0;34m\u001b[0m\u001b[0;34m\u001b[0m\u001b[0m\n\u001b[0m\u001b[1;32m    813\u001b[0m         \u001b[0;32mif\u001b[0m \u001b[0mnode_start\u001b[0m \u001b[0;32mis\u001b[0m \u001b[0;32mnot\u001b[0m \u001b[0;32mNone\u001b[0m\u001b[0;34m:\u001b[0m\u001b[0;34m\u001b[0m\u001b[0;34m\u001b[0m\u001b[0m\n\u001b[1;32m    814\u001b[0m             \u001b[0mdata\u001b[0m\u001b[0;34m[\u001b[0m\u001b[0;34m\"start\"\u001b[0m\u001b[0;34m]\u001b[0m \u001b[0;34m=\u001b[0m \u001b[0mself\u001b[0m\u001b[0;34m.\u001b[0m\u001b[0mpython_type\u001b[0m\u001b[0;34m[\u001b[0m\u001b[0mttype\u001b[0m\u001b[0;34m]\u001b[0m\u001b[0;34m(\u001b[0m\u001b[0mnode_start\u001b[0m\u001b[0;34m)\u001b[0m\u001b[0;34m\u001b[0m\u001b[0;34m\u001b[0m\u001b[0m\n",
      "\u001b[0;31mKeyboardInterrupt\u001b[0m: "
     ]
    }
   ],
   "source": [
    "target_user_graph = nx.read_gexf(os.path.join(args.parent_dir, args.data_dir, 'target_user_graph.gexf'), node_type=int)"
   ]
  },
  {
   "cell_type": "markdown",
   "id": "b03f2005-acf7-478c-9a75-13956ac325e2",
   "metadata": {},
   "source": [
    "### Data Pipeline Setup"
   ]
  },
  {
   "cell_type": "code",
   "execution_count": 6,
   "id": "ed03ace5-0455-4649-a714-a9d2708c535b",
   "metadata": {
    "tags": []
   },
   "outputs": [],
   "source": [
    "edge_file = os.path.join(args.parent_dir, args.data_dir, 'edges.csv')\n",
    "node_types_file = os.path.join(args.parent_dir, args.data_dir, 'num_entities.csv')\n",
    "edge_types_file = os.path.join(args.parent_dir, args.data_dir, 'edge_types.csv')\n",
    "data_pipeline = DataPipeline(edge_file, node_types_file, edge_types_file, args.simulation_epochs, \n",
    "    args.free_simulation, args.recommendation_mode, args.recalc_communities, \n",
    "    reference_user_graph, ideological_communities=args.ideological_communities)\n",
    "args.nentity = data_pipeline.get_num_nodes()\n",
    "args.nrelation = data_pipeline.get_num_edge_chains(by_chain_type=True)['1-chain']"
   ]
  },
  {
   "cell_type": "markdown",
   "id": "39f0ae3d-b266-4fae-bd99-c1a3dc108d45",
   "metadata": {},
   "source": [
    "### Training Pipeline Setup"
   ]
  },
  {
   "cell_type": "code",
   "execution_count": 7,
   "id": "40e02dfe-f1ef-4853-acc1-1b50e148c7bc",
   "metadata": {},
   "outputs": [],
   "source": [
    "model = KGEModel(\n",
    "    model_name=args.model,\n",
    "    nentity=args.nentity,\n",
    "    nrelation=args.nrelation,\n",
    "    hidden_dim=args.hidden_dim,\n",
    "    gamma=args.gamma,\n",
    ")\n",
    "\n",
    "if args.cuda:\n",
    "    model.cuda()\n",
    "\n",
    "optimizer = torch.optim.Adam(\n",
    "    filter(lambda p: p.requires_grad, model.parameters()), \n",
    "    lr=args.learning_rate\n",
    ")\n",
    "\n",
    "evaluator = Evaluator(name=args.dataset, eval_metric='mrr')\n",
    "\n",
    "train_pipeline = TrainPipeline(\n",
    "    model, optimizer, evaluator,\n",
    "    args.warm_up_steps, args.max_steps, args.batch_size, args.test_batch_size, \n",
    "    args.negative_sample_size, args.negative_adversarial_sampling, \n",
    "    args.adversarial_temperature, args.test_negative_sample_size, \n",
    "    args.regularization, args.uni_weight, args.cpu_num, args.cuda)"
   ]
  },
  {
   "cell_type": "markdown",
   "id": "1acc2f96-e6e5-47f5-8f26-7b5c4581b7bb",
   "metadata": {},
   "source": [
    "### Simulation Pipeline Setup"
   ]
  },
  {
   "cell_type": "code",
   "execution_count": 8,
   "id": "d79a3dc4-1b04-4ef0-833f-e151e40fd7b8",
   "metadata": {},
   "outputs": [],
   "source": [
    "simulation_pipeline = SimulationPipeline(\n",
    "    args.recommendation_mode, args.user_sampling_strategy, args.user_sample_size, \n",
    "    args.rank_users, args.rank_items, args.condition, args.num_user_recs, args.num_tweet_recs,\n",
    "    args.confirmation_bias, args.sharpness, args.do_disconnect, args.user_disconnect_ratio, args.disconnect_ratio, args.cuda,\n",
    "    ideological_communities=args.ideological_communities, ideological_strength=args.ideological_bias)"
   ]
  },
  {
   "cell_type": "markdown",
   "id": "3186e13a-c204-4974-b8ba-911e8068f87c",
   "metadata": {},
   "source": [
    "### Run Training & Agent-based Modeling"
   ]
  },
  {
   "cell_type": "code",
   "execution_count": 9,
   "id": "fce8eb3d-752c-48a2-9338-e75e075efa22",
   "metadata": {},
   "outputs": [
    {
     "name": "stderr",
     "output_type": "stream",
     "text": [
      "[epoch 0 | loss: 0.16650 | last save: 5000]: 100%|████████████████████████████████████████████████████████████████████| 10000/10000 [01:13<00:00, 136.33it/s]\n",
      "[epoch 0 | ab-modeling]: 100%|████████████████████████████████████████████████████████████████████████████████████████| 22354/22354 [01:49<00:00, 204.55it/s]\n"
     ]
    },
    {
     "name": "stdout",
     "output_type": "stream",
     "text": [
      "/home/tim/git-projects/2021-Twitter-KGE/log/ukraine/epistemic/random/DistMult/1645790647.525172/simulation.csv\n"
     ]
    },
    {
     "name": "stderr",
     "output_type": "stream",
     "text": [
      "[epoch 1 | loss: 0.48230 | last save: 0]: 100%|█████████████████████████████████████████████████████████████████████████| 5000/5000 [00:37<00:00, 131.62it/s]\n",
      "[epoch 1 | ab-modeling]: 100%|████████████████████████████████████████████████████████████████████████████████████████| 22211/22211 [01:58<00:00, 187.95it/s]\n"
     ]
    },
    {
     "name": "stdout",
     "output_type": "stream",
     "text": [
      "/home/tim/git-projects/2021-Twitter-KGE/log/ukraine/epistemic/random/DistMult/1645790647.525172/simulation.csv\n"
     ]
    },
    {
     "name": "stderr",
     "output_type": "stream",
     "text": [
      "[epoch 2 | loss: 0.55419 | last save: 0]: 100%|█████████████████████████████████████████████████████████████████████████| 5000/5000 [00:37<00:00, 132.67it/s]\n",
      "[epoch 2 | ab-modeling]: 100%|████████████████████████████████████████████████████████████████████████████████████████| 22211/22211 [02:13<00:00, 165.85it/s]\n"
     ]
    },
    {
     "name": "stdout",
     "output_type": "stream",
     "text": [
      "/home/tim/git-projects/2021-Twitter-KGE/log/ukraine/epistemic/random/DistMult/1645790647.525172/simulation.csv\n"
     ]
    },
    {
     "name": "stderr",
     "output_type": "stream",
     "text": [
      "[epoch 3 | loss: 0.62560 | last save: 0]: 100%|█████████████████████████████████████████████████████████████████████████| 5000/5000 [00:39<00:00, 127.73it/s]\n",
      "[epoch 3 | ab-modeling]: 100%|████████████████████████████████████████████████████████████████████████████████████████| 22211/22211 [02:33<00:00, 144.81it/s]\n"
     ]
    },
    {
     "name": "stdout",
     "output_type": "stream",
     "text": [
      "/home/tim/git-projects/2021-Twitter-KGE/log/ukraine/epistemic/random/DistMult/1645790647.525172/simulation.csv\n"
     ]
    },
    {
     "name": "stderr",
     "output_type": "stream",
     "text": [
      "[epoch 4 | loss: 0.62117 | last save: 0]: 100%|█████████████████████████████████████████████████████████████████████████| 5000/5000 [00:41<00:00, 120.77it/s]\n",
      "[epoch 4 | ab-modeling]: 100%|████████████████████████████████████████████████████████████████████████████████████████| 22211/22211 [02:41<00:00, 137.32it/s]\n"
     ]
    },
    {
     "name": "stdout",
     "output_type": "stream",
     "text": [
      "/home/tim/git-projects/2021-Twitter-KGE/log/ukraine/epistemic/random/DistMult/1645790647.525172/simulation.csv\n"
     ]
    },
    {
     "name": "stderr",
     "output_type": "stream",
     "text": [
      "[epoch 5 | loss: 0.76434 | last save: 0]: 100%|█████████████████████████████████████████████████████████████████████████| 5000/5000 [00:40<00:00, 123.53it/s]\n",
      "[epoch 5 | ab-modeling]: 100%|█████████████████████████████████████████████████████████████████████████████████████████| 22211/22211 [03:42<00:00, 99.76it/s]\n"
     ]
    },
    {
     "name": "stdout",
     "output_type": "stream",
     "text": [
      "/home/tim/git-projects/2021-Twitter-KGE/log/ukraine/epistemic/random/DistMult/1645790647.525172/simulation.csv\n"
     ]
    },
    {
     "name": "stderr",
     "output_type": "stream",
     "text": [
      "[epoch 6 | loss: 0.82640 | last save: 0]: 100%|█████████████████████████████████████████████████████████████████████████| 5000/5000 [00:40<00:00, 124.87it/s]\n",
      "[epoch 6 | ab-modeling]: 100%|████████████████████████████████████████████████████████████████████████████████████████| 22211/22211 [02:49<00:00, 131.20it/s]\n"
     ]
    },
    {
     "ename": "KeyboardInterrupt",
     "evalue": "",
     "output_type": "error",
     "traceback": [
      "\u001b[0;31m---------------------------------------------------------------------------\u001b[0m",
      "\u001b[0;31mKeyboardInterrupt\u001b[0m                         Traceback (most recent call last)",
      "\u001b[0;32m/tmp/ipykernel_8676/702525854.py\u001b[0m in \u001b[0;36m<module>\u001b[0;34m\u001b[0m\n\u001b[1;32m     54\u001b[0m \u001b[0;34m\u001b[0m\u001b[0m\n\u001b[1;32m     55\u001b[0m     \u001b[0;34m''' Log Simulation Statistics'''\u001b[0m\u001b[0;34m\u001b[0m\u001b[0;34m\u001b[0m\u001b[0m\n\u001b[0;32m---> 56\u001b[0;31m     \u001b[0msim_logger\u001b[0m\u001b[0;34m.\u001b[0m\u001b[0mcalculate_metrics\u001b[0m\u001b[0;34m(\u001b[0m\u001b[0muser_graph\u001b[0m\u001b[0;34m,\u001b[0m \u001b[0mcommunity_mapper\u001b[0m\u001b[0;34m,\u001b[0m \u001b[0mnode_ranges\u001b[0m\u001b[0;34m)\u001b[0m\u001b[0;34m\u001b[0m\u001b[0;34m\u001b[0m\u001b[0m\n\u001b[0m\u001b[1;32m     57\u001b[0m     \u001b[0msim_logger\u001b[0m\u001b[0;34m.\u001b[0m\u001b[0mlog_simulation\u001b[0m\u001b[0;34m(\u001b[0m\u001b[0mepoch\u001b[0m\u001b[0;34m,\u001b[0m \u001b[0msim_logs\u001b[0m\u001b[0;34m)\u001b[0m\u001b[0;34m\u001b[0m\u001b[0;34m\u001b[0m\u001b[0m\n\u001b[1;32m     58\u001b[0m     \u001b[0mnx\u001b[0m\u001b[0;34m.\u001b[0m\u001b[0mwrite_gexf\u001b[0m\u001b[0;34m(\u001b[0m\u001b[0muser_graph\u001b[0m\u001b[0;34m,\u001b[0m \u001b[0mos\u001b[0m\u001b[0;34m.\u001b[0m\u001b[0mpath\u001b[0m\u001b[0;34m.\u001b[0m\u001b[0mjoin\u001b[0m\u001b[0;34m(\u001b[0m\u001b[0margs\u001b[0m\u001b[0;34m.\u001b[0m\u001b[0msave_path\u001b[0m\u001b[0;34m,\u001b[0m \u001b[0;34m\"user_graph_{}.gexf\"\u001b[0m\u001b[0;34m.\u001b[0m\u001b[0mformat\u001b[0m\u001b[0;34m(\u001b[0m\u001b[0mepoch\u001b[0m\u001b[0;34m)\u001b[0m\u001b[0;34m)\u001b[0m\u001b[0;34m)\u001b[0m\u001b[0;34m\u001b[0m\u001b[0;34m\u001b[0m\u001b[0m\n",
      "\u001b[0;32m~/git-projects/2021-Twitter-KGE/src/utils.py\u001b[0m in \u001b[0;36mcalculate_metrics\u001b[0;34m(self, user_graph, community_mapper, node_ranges)\u001b[0m\n\u001b[1;32m    358\u001b[0m \u001b[0;34m\u001b[0m\u001b[0m\n\u001b[1;32m    359\u001b[0m         \u001b[0;34m''' Community Performance '''\u001b[0m\u001b[0;34m\u001b[0m\u001b[0;34m\u001b[0m\u001b[0m\n\u001b[0;32m--> 360\u001b[0;31m         \u001b[0mself\u001b[0m\u001b[0;34m.\u001b[0m\u001b[0mcalculate_community_performance\u001b[0m\u001b[0;34m(\u001b[0m\u001b[0muser_graph\u001b[0m\u001b[0;34m,\u001b[0m \u001b[0mc2u\u001b[0m\u001b[0;34m,\u001b[0m \u001b[0mnode_ranges\u001b[0m\u001b[0;34m)\u001b[0m\u001b[0;34m\u001b[0m\u001b[0;34m\u001b[0m\u001b[0m\n\u001b[0m\u001b[1;32m    361\u001b[0m \u001b[0;34m\u001b[0m\u001b[0m\n\u001b[1;32m    362\u001b[0m         \u001b[0;34m''' Controversy '''\u001b[0m\u001b[0;34m\u001b[0m\u001b[0;34m\u001b[0m\u001b[0m\n",
      "\u001b[0;32m~/git-projects/2021-Twitter-KGE/src/utils.py\u001b[0m in \u001b[0;36mcalculate_community_performance\u001b[0;34m(self, G, community2users, node_ranges)\u001b[0m\n\u001b[1;32m    201\u001b[0m             \u001b[0mself\u001b[0m\u001b[0;34m.\u001b[0m\u001b[0msim_metrics\u001b[0m\u001b[0;34m[\u001b[0m\u001b[0;34m'size_{}'\u001b[0m\u001b[0;34m.\u001b[0m\u001b[0mformat\u001b[0m\u001b[0;34m(\u001b[0m\u001b[0mk\u001b[0m\u001b[0;34m)\u001b[0m\u001b[0;34m]\u001b[0m\u001b[0;34m.\u001b[0m\u001b[0mappend\u001b[0m\u001b[0;34m(\u001b[0m\u001b[0;36m0\u001b[0m\u001b[0;34m)\u001b[0m\u001b[0;34m\u001b[0m\u001b[0;34m\u001b[0m\u001b[0m\n\u001b[1;32m    202\u001b[0m \u001b[0;34m\u001b[0m\u001b[0m\n\u001b[0;32m--> 203\u001b[0;31m         \u001b[0mperformance\u001b[0m \u001b[0;34m=\u001b[0m \u001b[0mperf\u001b[0m\u001b[0;34m(\u001b[0m\u001b[0mG\u001b[0m\u001b[0;34m,\u001b[0m \u001b[0mlist\u001b[0m\u001b[0;34m(\u001b[0m\u001b[0mcommunity2users\u001b[0m\u001b[0;34m.\u001b[0m\u001b[0mvalues\u001b[0m\u001b[0;34m(\u001b[0m\u001b[0;34m)\u001b[0m\u001b[0;34m)\u001b[0m\u001b[0;34m)\u001b[0m\u001b[0;34m\u001b[0m\u001b[0;34m\u001b[0m\u001b[0m\n\u001b[0m\u001b[1;32m    204\u001b[0m         \u001b[0;31m#coverage = nx.algorithms.community.quality.coverage(G, list(community2users.values()))\u001b[0m\u001b[0;34m\u001b[0m\u001b[0;34m\u001b[0m\u001b[0;34m\u001b[0m\u001b[0m\n\u001b[1;32m    205\u001b[0m         \u001b[0;31m#modularity = nx.algorithms.community.quality.modularity(G, list(community2users.values()))\u001b[0m\u001b[0;34m\u001b[0m\u001b[0;34m\u001b[0m\u001b[0;34m\u001b[0m\u001b[0m\n",
      "\u001b[0;32m~/git-projects/2021-Twitter-KGE/src/graph.py\u001b[0m in \u001b[0;36mperformance\u001b[0;34m(G, partition)\u001b[0m\n\u001b[1;32m     24\u001b[0m     \u001b[0;31m# edges.\u001b[0m\u001b[0;34m\u001b[0m\u001b[0;34m\u001b[0m\u001b[0;34m\u001b[0m\u001b[0m\n\u001b[1;32m     25\u001b[0m     \u001b[0mintra_edges\u001b[0m \u001b[0;34m=\u001b[0m \u001b[0mintra_community_edges\u001b[0m\u001b[0;34m(\u001b[0m\u001b[0mG\u001b[0m\u001b[0;34m,\u001b[0m \u001b[0mpartition\u001b[0m\u001b[0;34m)\u001b[0m\u001b[0;34m\u001b[0m\u001b[0;34m\u001b[0m\u001b[0m\n\u001b[0;32m---> 26\u001b[0;31m     \u001b[0minter_edges\u001b[0m \u001b[0;34m=\u001b[0m \u001b[0minter_community_non_edges\u001b[0m\u001b[0;34m(\u001b[0m\u001b[0mG\u001b[0m\u001b[0;34m,\u001b[0m \u001b[0mpartition\u001b[0m\u001b[0;34m)\u001b[0m\u001b[0;34m\u001b[0m\u001b[0;34m\u001b[0m\u001b[0m\n\u001b[0m\u001b[1;32m     27\u001b[0m     \u001b[0;31m# Compute the number of edges in the complete graph (directed or\u001b[0m\u001b[0;34m\u001b[0m\u001b[0;34m\u001b[0m\u001b[0;34m\u001b[0m\u001b[0m\n\u001b[1;32m     28\u001b[0m     \u001b[0;31m# undirected, as it depends on `G`) on `n` nodes.\u001b[0m\u001b[0;34m\u001b[0m\u001b[0;34m\u001b[0m\u001b[0;34m\u001b[0m\u001b[0m\n",
      "\u001b[0;32m~/git-projects/2021-Twitter-KGE/src/graph.py\u001b[0m in \u001b[0;36minter_community_non_edges\u001b[0;34m(G, partition)\u001b[0m\n\u001b[1;32m     18\u001b[0m                                     for block in partition))\n\u001b[1;32m     19\u001b[0m \u001b[0;34m\u001b[0m\u001b[0m\n\u001b[0;32m---> 20\u001b[0;31m     \u001b[0;32mreturn\u001b[0m \u001b[0msum\u001b[0m\u001b[0;34m(\u001b[0m\u001b[0;36m1\u001b[0m \u001b[0;32mfor\u001b[0m \u001b[0mu\u001b[0m\u001b[0;34m,\u001b[0m \u001b[0mv\u001b[0m \u001b[0;32min\u001b[0m \u001b[0mnx\u001b[0m\u001b[0;34m.\u001b[0m\u001b[0mnon_edges\u001b[0m\u001b[0;34m(\u001b[0m\u001b[0mG\u001b[0m\u001b[0;34m)\u001b[0m \u001b[0;32mif\u001b[0m \u001b[0maff\u001b[0m\u001b[0;34m[\u001b[0m\u001b[0mu\u001b[0m\u001b[0;34m]\u001b[0m \u001b[0;34m!=\u001b[0m \u001b[0maff\u001b[0m\u001b[0;34m[\u001b[0m\u001b[0mv\u001b[0m\u001b[0;34m]\u001b[0m\u001b[0;34m)\u001b[0m\u001b[0;34m\u001b[0m\u001b[0;34m\u001b[0m\u001b[0m\n\u001b[0m\u001b[1;32m     21\u001b[0m \u001b[0;34m\u001b[0m\u001b[0m\n\u001b[1;32m     22\u001b[0m \u001b[0;32mdef\u001b[0m \u001b[0mperformance\u001b[0m\u001b[0;34m(\u001b[0m\u001b[0mG\u001b[0m\u001b[0;34m,\u001b[0m \u001b[0mpartition\u001b[0m\u001b[0;34m)\u001b[0m\u001b[0;34m:\u001b[0m\u001b[0;34m\u001b[0m\u001b[0;34m\u001b[0m\u001b[0m\n",
      "\u001b[0;32m~/git-projects/2021-Twitter-KGE/src/graph.py\u001b[0m in \u001b[0;36m<genexpr>\u001b[0;34m(.0)\u001b[0m\n\u001b[1;32m     18\u001b[0m                                     for block in partition))\n\u001b[1;32m     19\u001b[0m \u001b[0;34m\u001b[0m\u001b[0m\n\u001b[0;32m---> 20\u001b[0;31m     \u001b[0;32mreturn\u001b[0m \u001b[0msum\u001b[0m\u001b[0;34m(\u001b[0m\u001b[0;36m1\u001b[0m \u001b[0;32mfor\u001b[0m \u001b[0mu\u001b[0m\u001b[0;34m,\u001b[0m \u001b[0mv\u001b[0m \u001b[0;32min\u001b[0m \u001b[0mnx\u001b[0m\u001b[0;34m.\u001b[0m\u001b[0mnon_edges\u001b[0m\u001b[0;34m(\u001b[0m\u001b[0mG\u001b[0m\u001b[0;34m)\u001b[0m \u001b[0;32mif\u001b[0m \u001b[0maff\u001b[0m\u001b[0;34m[\u001b[0m\u001b[0mu\u001b[0m\u001b[0;34m]\u001b[0m \u001b[0;34m!=\u001b[0m \u001b[0maff\u001b[0m\u001b[0;34m[\u001b[0m\u001b[0mv\u001b[0m\u001b[0;34m]\u001b[0m\u001b[0;34m)\u001b[0m\u001b[0;34m\u001b[0m\u001b[0;34m\u001b[0m\u001b[0m\n\u001b[0m\u001b[1;32m     21\u001b[0m \u001b[0;34m\u001b[0m\u001b[0m\n\u001b[1;32m     22\u001b[0m \u001b[0;32mdef\u001b[0m \u001b[0mperformance\u001b[0m\u001b[0;34m(\u001b[0m\u001b[0mG\u001b[0m\u001b[0;34m,\u001b[0m \u001b[0mpartition\u001b[0m\u001b[0;34m)\u001b[0m\u001b[0;34m:\u001b[0m\u001b[0;34m\u001b[0m\u001b[0;34m\u001b[0m\u001b[0m\n",
      "\u001b[0;31mKeyboardInterrupt\u001b[0m: "
     ]
    }
   ],
   "source": [
    "for _ in range(0, args.simulation_epochs):\n",
    "    ''' Enter Next Epoch '''\n",
    "    data_pipeline.next_epoch()\n",
    "    epoch = data_pipeline.epoch\n",
    "    \n",
    "    # TODO: Make nicer\n",
    "    simulation_pipeline.ideological_communities = data_pipeline.ideological_communities\n",
    "\n",
    "    ''' Log Epoch Info '''\n",
    "    sim_logger.log_epoch_info(epoch, data_pipeline.epoch_edges, len(data_pipeline.epoch_nodes),\n",
    "        args.nentity, args.nrelation)\n",
    "\n",
    "    ''' Prepare Training Data '''\n",
    "    data = data_pipeline.get_epoch_train_data()\n",
    "    if epoch == 0:\n",
    "        node_ranges = data_pipeline.get_node_ranges()\n",
    "        data = train_pipeline.next_epoch(args.learning_rate, data, node_ranges)\n",
    "    else:\n",
    "        data = train_pipeline.next_epoch(args.learning_rate, data)\n",
    "\n",
    "    ''' Training '''\n",
    "    training_logs = []\n",
    "    pbar = sim_logger.init_pbar(args.max_steps if epoch == 0 else int(args.max_steps * 0.5))\n",
    "    for step in pbar:\n",
    "        training_logs += train_pipeline.train(data)\n",
    "\n",
    "        if step >= train_pipeline.warm_up_steps:\n",
    "            train_pipeline.adjust_optimizer(model, step)\n",
    "\n",
    "        if step % args.log_steps == 0:\n",
    "            sim_logger.update_pbar(pbar, epoch, step, training_logs)\n",
    "            sim_logger.log_training(epoch, step, training_logs)\n",
    "            training_logs = []\n",
    "\n",
    "            if args.do_test:\n",
    "                test_logs = train_pipeline.test(data, data_pipeline.edge_chains)\n",
    "                sim_logger.log_test(epoch, step, test_logs, 'valid')\n",
    "\n",
    "    ''' Agent-based Modeling '''\n",
    "    twitter_graph = data_pipeline.get_epoch_twitter_graph()\n",
    "    user_graph = data_pipeline.get_epoch_user_graph()\n",
    "    with torch.no_grad(): \n",
    "        model.eval()\n",
    "        epoch_sim_edges, epoch_remove_edges, sim_logs = simulation_pipeline.simulate(epoch, model, twitter_graph,\n",
    "            user_graph, data_pipeline.community_mapper,\n",
    "            data_pipeline.get_edge_chains(flatten=True))\n",
    "    data_pipeline.add_epoch_sim_edges(epoch_sim_edges)\n",
    "    data_pipeline.remove_edges(epoch_remove_edges)\n",
    "\n",
    "    ''' Check Community Integrity '''\n",
    "    user_graph = data_pipeline.get_epoch_user_graph()\n",
    "    community_mapper = data_pipeline.init_community_mapper(user_graph)\n",
    "    node_ranges = data_pipeline.get_node_ranges()\n",
    "\n",
    "    ''' Log Simulation Statistics'''\n",
    "    sim_logger.calculate_metrics(user_graph, community_mapper, node_ranges)\n",
    "    sim_logger.log_simulation(epoch, sim_logs) \n",
    "    nx.write_gexf(user_graph, os.path.join(args.save_path, \"user_graph_{}.gexf\".format(epoch)))"
   ]
  },
  {
   "cell_type": "code",
   "execution_count": null,
   "id": "0b65a626-8a68-4607-88e6-79b5e5fbf357",
   "metadata": {},
   "outputs": [],
   "source": []
  },
  {
   "cell_type": "code",
   "execution_count": null,
   "id": "291cd3b4-b11a-4202-8cf5-df4298f7baeb",
   "metadata": {},
   "outputs": [],
   "source": []
  }
 ],
 "metadata": {
  "kernelspec": {
   "display_name": "Python 3 (ipykernel)",
   "language": "python",
   "name": "python3"
  },
  "language_info": {
   "codemirror_mode": {
    "name": "ipython",
    "version": 3
   },
   "file_extension": ".py",
   "mimetype": "text/x-python",
   "name": "python",
   "nbconvert_exporter": "python",
   "pygments_lexer": "ipython3",
   "version": "3.8.5"
  }
 },
 "nbformat": 4,
 "nbformat_minor": 5
}
