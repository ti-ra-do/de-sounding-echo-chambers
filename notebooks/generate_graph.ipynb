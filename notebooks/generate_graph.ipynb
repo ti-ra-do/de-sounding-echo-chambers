{
 "cells": [
  {
   "cell_type": "markdown",
   "id": "420c378b-5044-4a0c-990e-9299046490ee",
   "metadata": {
    "tags": []
   },
   "source": [
    "# The Echo Chamber Simulator - Graph Generator"
   ]
  },
  {
   "cell_type": "markdown",
   "id": "b3fe2b75-e87c-432a-8d28-014bb8c31a00",
   "metadata": {},
   "source": [
    "### Setup"
   ]
  },
  {
   "cell_type": "code",
   "execution_count": 69,
   "id": "aea8266e-a5fc-4113-bf00-a388cae8a332",
   "metadata": {},
   "outputs": [
    {
     "data": {
      "text/plain": [
       "Namespace(add_argumentation_graph=False, center_skew=1.0, centralized=False, data_dir='dataset/processed/synth_polarization', draw_user_graph=False, edge_sample_ratio=1.0, expected_retweets_per_user=3, expected_tweets_per_user=5, expected_user_edges=30000, in_out_ratio=0.05, min_retweets_per_tweet=3, num_bins=1, num_partitions=3, num_users_per_partition=100, scenario=None, user_based=False)"
      ]
     },
     "execution_count": 69,
     "metadata": {},
     "output_type": "execute_result"
    }
   ],
   "source": [
    "import sys\n",
    "sys.path.append('../src')\n",
    "\n",
    "import os\n",
    "import csv\n",
    "import time\n",
    "import torch\n",
    "import random\n",
    "\n",
    "import pandas as pd\n",
    "import networkx as nx\n",
    "\n",
    "from data import DataPipeline\n",
    "from generate.generate_synthetic_graph import GraphGenerator, parse_args\n",
    "from graph import homophily\n",
    "\n",
    "args = parse_args(\"\")\n",
    "args.draw_user_graph = False\n",
    "args.data_dir = 'dataset/processed/synth_polarization'\n",
    "\n",
    "parent_dir = os.path.abspath(os.path.join(os.getcwd(), os.pardir))\n",
    "data_dir = os.path.join(parent_dir, args.data_dir)\n",
    "if not os.path.exists(data_dir):\n",
    "    os.makedirs(data_dir)\n",
    "\n",
    "    \n",
    "args.min_retweets_per_tweet = 3\n",
    "args.expected_retweets_per_user = 3\n",
    "\n",
    "args"
   ]
  },
  {
   "cell_type": "code",
   "execution_count": 70,
   "id": "9ccff05d-109a-41ed-83fe-23cea51125c8",
   "metadata": {},
   "outputs": [],
   "source": [
    "gg = GraphGenerator()"
   ]
  },
  {
   "cell_type": "markdown",
   "id": "c2a6d191-4a0d-4a66-a12c-859b1b2d7af1",
   "metadata": {},
   "source": [
    "### Create User Graph"
   ]
  },
  {
   "cell_type": "markdown",
   "id": "3ecf3eb9-6049-47b7-a037-8a0577cedcb7",
   "metadata": {},
   "source": [
    "Number of Community Members"
   ]
  },
  {
   "cell_type": "code",
   "execution_count": 71,
   "id": "1a9b6144-8aff-42a1-83c0-e1dcaf0a8454",
   "metadata": {},
   "outputs": [],
   "source": [
    "community_dict = {\n",
    "    0: {'members': 500, 'gatekeepers': 10},\n",
    "    1: {'members': 500, 'gatekeepers': 10},\n",
    "}"
   ]
  },
  {
   "cell_type": "markdown",
   "id": "e7494e3b-3ff3-407a-b951-c1a750e56ec3",
   "metadata": {},
   "source": [
    "Average number of user follows"
   ]
  },
  {
   "cell_type": "code",
   "execution_count": 72,
   "id": "ab308089-bf07-4c5f-b851-de79de6ac1ce",
   "metadata": {},
   "outputs": [],
   "source": [
    "follow_dict = {\n",
    "    0: {'members': 5, 'gatekeepers': 20},\n",
    "    1: {'members': 5, 'gatekeepers': 20},\n",
    "}"
   ]
  },
  {
   "cell_type": "markdown",
   "id": "c5378cee-186f-484f-b582-a395287bb0a1",
   "metadata": {},
   "source": [
    "### Community Connection Probabilities"
   ]
  },
  {
   "cell_type": "code",
   "execution_count": 73,
   "id": "0c1eee46-9a44-4676-9c31-f0ad21174023",
   "metadata": {},
   "outputs": [],
   "source": [
    "connection_dict = {\n",
    "    0: {\n",
    "        'members':     {0: 0.8, 1: 0.2},\n",
    "        'gatekeepers': {0: 0.8, 1: 0.2},\n",
    "    },\n",
    "    1: {\n",
    "        'members':     {0: 0.2, 1: 0.8},\n",
    "        'gatekeepers': {0: 0.2, 1: 0.8},\n",
    "    },\n",
    "}"
   ]
  },
  {
   "cell_type": "code",
   "execution_count": 74,
   "id": "79fc2aad-7bb1-42f9-838a-dbf9c00f2aed",
   "metadata": {},
   "outputs": [
    {
     "name": "stderr",
     "output_type": "stream",
     "text": [
      "create user graph: 100%|███████████████████████████████████████████████████████████████| 2/2 [00:00<00:00,  3.73it/s]\n",
      "densify user graph: 100%|████████████████████████████████████████████████████████| 449/449 [00:00<00:00, 9324.46it/s]\n"
     ]
    }
   ],
   "source": [
    "user_graph = gg.create_scenario_user_graph(\n",
    "    community_dict, follow_dict, connection_dict,\n",
    "    args.center_skew, min_in_degree=args.min_retweets_per_tweet)\n",
    "\n",
    "nx.write_gexf(user_graph, os.path.join(data_dir, \"reduced_user_graph.gexf\"))\n",
    "\n",
    "users = user_graph.nodes"
   ]
  },
  {
   "cell_type": "markdown",
   "id": "c0306472-f756-4722-be8a-e4035c216160",
   "metadata": {},
   "source": [
    "### Create Twitter Graph"
   ]
  },
  {
   "cell_type": "code",
   "execution_count": 75,
   "id": "fae679a6-f422-4383-834d-1492ef5a8306",
   "metadata": {},
   "outputs": [
    {
     "name": "stderr",
     "output_type": "stream",
     "text": [
      "create twitter graph: 100%|███████████████████████████████████████████████████| 1020/1020 [00:00<00:00, 41964.85it/s]\n",
      "densify twitter graph: 100%|█████████████████████████████████████████████████| 1020/1020 [00:00<00:00, 132353.36it/s]\n"
     ]
    }
   ],
   "source": [
    "twitter_graph = gg.create_twitter_graph(\n",
    "    user_graph, args.expected_tweets_per_user, \n",
    "    args.expected_retweets_per_user, args.min_retweets_per_tweet)\n",
    "\n",
    "nx.write_gexf(twitter_graph, os.path.join(data_dir, \"reduced_twitter_graph.gexf\"))\n",
    "\n",
    "tweets = [x for x,y in twitter_graph.nodes(data=True) if y['node_type']=='tweet']\n",
    "random.shuffle(tweets)"
   ]
  },
  {
   "cell_type": "markdown",
   "id": "86d020ec-2039-4013-9b1f-89938c313214",
   "metadata": {},
   "source": [
    "### Create Dataset"
   ]
  },
  {
   "cell_type": "code",
   "execution_count": 76,
   "id": "d548dc4e-9301-41f1-b7ce-de29c51921cf",
   "metadata": {},
   "outputs": [
    {
     "name": "stderr",
     "output_type": "stream",
     "text": [
      "fetching tweet edges: 100%|█████████████████████████████████████████████████| 4161/4161 [00:00<00:00, 1159403.37it/s]\n",
      "fetching retweet edges: 100%|█████████████████████████████████████████████| 14773/14773 [00:00<00:00, 2259259.57it/s]\n"
     ]
    }
   ],
   "source": [
    "edges = []\n",
    "\n",
    "out_edges = twitter_graph.out_edges(tweets, data=True)\n",
    "edges += gg.get_tweet_edges(out_edges)\n",
    "\n",
    "in_edges = list(twitter_graph.in_edges(tweets, data=True))\n",
    "random.shuffle(in_edges)\n",
    "cutoff = int(len(in_edges) * args.edge_sample_ratio)\n",
    "in_edges = in_edges[:cutoff]\n",
    "\n",
    "edges += gg.get_retweet_edges(in_edges)\n",
    "edges += gg.get_follow_chains(user_graph)"
   ]
  },
  {
   "cell_type": "code",
   "execution_count": 77,
   "id": "e042c1a4-5255-4ed1-8fb8-beeed0d3c379",
   "metadata": {},
   "outputs": [],
   "source": [
    "df = pd.DataFrame(edges, columns=['head', 'tail', 'edge_type', 'query_type', 'head_type', 'tail_type', 'bin'])\n",
    "df.to_csv(os.path.join(data_dir, \"edges.csv\"))\n",
    "\n",
    "with open(os.path.join(data_dir, \"num_entities.csv\"), 'w', newline='') as f:  \n",
    "    csv_writer = csv.writer(f, delimiter=',')\n",
    "    csv_writer.writerow(['user', 'tweet'])\n",
    "    csv_writer.writerow([len(users), len(tweets)])\n",
    "    \n",
    "with open(os.path.join(data_dir, \"edge_types.csv\"), 'w', newline='') as f:\n",
    "    csv_writer = csv.writer(f, delimiter=',')\n",
    "    csv_writer.writerow(['edge_type', 'edge_tuple'])\n",
    "    csv_writer.writerow(['retweet', (0,)])\n",
    "    csv_writer.writerow(['tweet', (1,)])\n",
    "    csv_writer.writerow(['follow', (0,1)])"
   ]
  },
  {
   "cell_type": "code",
   "execution_count": null,
   "id": "31d0232e-8dee-4a6e-8f3e-5b810168b3d2",
   "metadata": {},
   "outputs": [],
   "source": []
  },
  {
   "cell_type": "code",
   "execution_count": null,
   "id": "4065645e-88db-4520-9c38-66f3e8dfd8cd",
   "metadata": {},
   "outputs": [],
   "source": []
  }
 ],
 "metadata": {
  "kernelspec": {
   "display_name": "Python 3 (ipykernel)",
   "language": "python",
   "name": "python3"
  },
  "language_info": {
   "codemirror_mode": {
    "name": "ipython",
    "version": 3
   },
   "file_extension": ".py",
   "mimetype": "text/x-python",
   "name": "python",
   "nbconvert_exporter": "python",
   "pygments_lexer": "ipython3",
   "version": "3.7.13"
  }
 },
 "nbformat": 4,
 "nbformat_minor": 5
}
